{
 "cells": [
  {
   "cell_type": "code",
   "execution_count": 1,
   "id": "refined-reverse",
   "metadata": {},
   "outputs": [
    {
     "name": "stderr",
     "output_type": "stream",
     "text": [
      "/cms/base/Miniconda/miniconda/lib/python3.7/site-packages/requests/__init__.py:89: RequestsDependencyWarning: urllib3 (1.26.3) or chardet (2.2.1) doesn't match a supported version!\n",
      "  RequestsDependencyWarning)\n"
     ]
    }
   ],
   "source": [
    "%matplotlib inline\n",
    "\n",
    "import json, glob, sys, os, gzip, time\n",
    "import numpy as np\n",
    "import pandas as pd\n",
    "import matplotlib.pyplot as plt\n",
    "from tqdm.auto import tqdm\n",
    "import requests\n",
    "\n",
    "from scipy import interpolate"
   ]
  },
  {
   "cell_type": "code",
   "execution_count": 2,
   "id": "placed-newman",
   "metadata": {},
   "outputs": [],
   "source": [
    "df_br = pd.read_csv(\"/cms/routray/Brmumu.tsv\", delimiter = \"\\t\", header=None)\n",
    "df_ct = pd.read_csv(\"/cms/routray/tau.tsv\", delimiter = \"\\t\", header=None)\n",
    "df_br = df_br[df_br[1] != 0]\n",
    "# df_ct"
   ]
  },
  {
   "cell_type": "code",
   "execution_count": 3,
   "id": "orange-workshop",
   "metadata": {},
   "outputs": [
    {
     "data": {
      "image/png": "[encoded data removed]",
      "text/plain": [
       "<Figure size 432x288 with 1 Axes>"
      ]
     },
     "metadata": {
      "needs_background": "light"
     },
     "output_type": "display_data"
    }
   ],
   "source": [
    "f = interpolate.interp1d(df_br[0].tolist(), df_br[1].tolist(), bounds_error=None)\n",
    "\n",
    "xnew = np.arange(0.215, 10, 0.001)\n",
    "ynew = f(xnew)  \n",
    "# print(ynew)\n",
    "plt.plot(df_br[0].tolist(), df_br[1].tolist(), 'o', xnew, ynew, '-')\n",
    "plt.xscale(\"log\")\n",
    "plt.yscale(\"log\")\n",
    "plt.ylabel(r\"BR($\\phi\\rightarrow\\mu\\mu$)\")\n",
    "plt.xlabel(r\"Mass of $\\phi$ [GeV]\")\n",
    "\n",
    "plt.show()"
   ]
  },
  {
   "cell_type": "code",
   "execution_count": 4,
   "id": "growing-authentication",
   "metadata": {},
   "outputs": [
    {
     "data": {
      "image/png": "[encoded data removed]",
      "text/plain": [
       "<Figure size 432x288 with 1 Axes>"
      ]
     },
     "metadata": {
      "needs_background": "light"
     },
     "output_type": "display_data"
    }
   ],
   "source": [
    "f = interpolate.interp1d(df_ct[0].tolist(), np.array(df_ct[1].tolist())*299792458000, bounds_error=None)\n",
    "\n",
    "xnew = np.arange(0.1, 10, 0.001)\n",
    "ynew = f(xnew)  \n",
    "# print(ynew)\n",
    "plt.plot(df_ct[0].tolist(), np.array(df_ct[1].tolist())*299792458000, 'o', xnew, ynew, '-')\n",
    "plt.xscale(\"log\")\n",
    "plt.yscale(\"log\")\n",
    "plt.ylabel(r\"c$\\tau$.${\\theta}^{2}$ [mm]\")\n",
    "plt.xlabel(r\"Mass of $\\phi$ [GeV]\")\n",
    "\n",
    "plt.show()"
   ]
  },
  {
   "cell_type": "code",
   "execution_count": 5,
   "id": "diverse-liechtenstein",
   "metadata": {},
   "outputs": [
    {
     "name": "stdout",
     "output_type": "stream",
     "text": [
      "1.725326120967147e-08 0.12597668788310082\n"
     ]
    }
   ],
   "source": [
    "def get_thetasq(mass,ctau):\n",
    "    f = interpolate.interp1d(df_ct[0].tolist(), np.array(df_ct[1].tolist())*299792458000, bounds_error=None)\n",
    "    return f(mass)/ctau\n",
    "\n",
    "def get_br(mass):\n",
    "    f = interpolate.interp1d(df_br[0].tolist(), df_br[1].tolist(), bounds_error=None)    \n",
    "    return f(mass)\n",
    "\n",
    "# def get_br_arr(mass):\n",
    "#     f = interpolate.interp1d(df_br[0].tolist(), df_br[1].tolist(), bounds_error=None)    \n",
    "#     return float(f(mass))\n",
    "\n",
    "print(get_thetasq(2,100),get_br(2))\n"
   ]
  },
  {
   "cell_type": "code",
   "execution_count": 6,
   "id": "quick-prince",
   "metadata": {},
   "outputs": [
    {
     "data": {
      "text/html": [
       "<div>\n",
       "<style scoped>\n",
       "    .dataframe tbody tr th:only-of-type {\n",
       "        vertical-align: middle;\n",
       "    }\n",
       "\n",
       "    .dataframe tbody tr th {\n",
       "        vertical-align: top;\n",
       "    }\n",
       "\n",
       "    .dataframe thead th {\n",
       "        text-align: right;\n",
       "    }\n",
       "</style>\n",
       "<table border=\"1\" class=\"dataframe\">\n",
       "  <thead>\n",
       "    <tr style=\"text-align: right;\">\n",
       "      <th></th>\n",
       "      <th>mass</th>\n",
       "      <th>stheta_sq</th>\n",
       "      <th>ctau</th>\n",
       "      <th>BRbrULobs</th>\n",
       "      <th>BRULobs</th>\n",
       "      <th>theta_sq_inflaton</th>\n",
       "      <th>BRULobs_inflaton</th>\n",
       "      <th>excl</th>\n",
       "      <th>BRtheory</th>\n",
       "    </tr>\n",
       "  </thead>\n",
       "  <tbody>\n",
       "    <tr>\n",
       "      <th>0</th>\n",
       "      <td>0.3</td>\n",
       "      <td>6.412669e-04</td>\n",
       "      <td>0.1</td>\n",
       "      <td>9.580597e-08</td>\n",
       "      <td>3.787260e-07</td>\n",
       "      <td>9.757958e-04</td>\n",
       "      <td>2.472736e-07</td>\n",
       "      <td>True</td>\n",
       "      <td>4.653616e-03</td>\n",
       "    </tr>\n",
       "    <tr>\n",
       "      <th>1</th>\n",
       "      <td>0.3</td>\n",
       "      <td>3.206334e-04</td>\n",
       "      <td>0.2</td>\n",
       "      <td>2.820734e-08</td>\n",
       "      <td>1.115051e-07</td>\n",
       "      <td>4.878979e-04</td>\n",
       "      <td>7.280266e-08</td>\n",
       "      <td>True</td>\n",
       "      <td>2.326808e-03</td>\n",
       "    </tr>\n",
       "    <tr>\n",
       "      <th>2</th>\n",
       "      <td>0.3</td>\n",
       "      <td>1.282534e-04</td>\n",
       "      <td>0.5</td>\n",
       "      <td>1.330408e-08</td>\n",
       "      <td>5.259173e-08</td>\n",
       "      <td>1.951592e-04</td>\n",
       "      <td>3.433761e-08</td>\n",
       "      <td>True</td>\n",
       "      <td>9.307231e-04</td>\n",
       "    </tr>\n",
       "    <tr>\n",
       "      <th>3</th>\n",
       "      <td>0.3</td>\n",
       "      <td>6.412669e-05</td>\n",
       "      <td>1.0</td>\n",
       "      <td>1.085803e-08</td>\n",
       "      <td>4.292234e-08</td>\n",
       "      <td>9.757958e-05</td>\n",
       "      <td>2.802438e-08</td>\n",
       "      <td>True</td>\n",
       "      <td>4.653616e-04</td>\n",
       "    </tr>\n",
       "    <tr>\n",
       "      <th>4</th>\n",
       "      <td>0.3</td>\n",
       "      <td>8.015836e-05</td>\n",
       "      <td>0.8</td>\n",
       "      <td>1.149619e-08</td>\n",
       "      <td>4.544503e-08</td>\n",
       "      <td>1.219745e-04</td>\n",
       "      <td>2.967146e-08</td>\n",
       "      <td>True</td>\n",
       "      <td>5.817020e-04</td>\n",
       "    </tr>\n",
       "    <tr>\n",
       "      <th>...</th>\n",
       "      <td>...</td>\n",
       "      <td>...</td>\n",
       "      <td>...</td>\n",
       "      <td>...</td>\n",
       "      <td>...</td>\n",
       "      <td>...</td>\n",
       "      <td>...</td>\n",
       "      <td>...</td>\n",
       "      <td>...</td>\n",
       "    </tr>\n",
       "    <tr>\n",
       "      <th>2972</th>\n",
       "      <td>5.0</td>\n",
       "      <td>2.877833e-09</td>\n",
       "      <td>10.0</td>\n",
       "      <td>8.117690e-11</td>\n",
       "      <td>1.549889e-08</td>\n",
       "      <td>1.536709e-09</td>\n",
       "      <td>2.853291e-08</td>\n",
       "      <td>False</td>\n",
       "      <td>7.811534e-11</td>\n",
       "    </tr>\n",
       "    <tr>\n",
       "      <th>2973</th>\n",
       "      <td>5.0</td>\n",
       "      <td>1.438917e-09</td>\n",
       "      <td>20.0</td>\n",
       "      <td>8.729528e-11</td>\n",
       "      <td>1.666705e-08</td>\n",
       "      <td>7.683544e-10</td>\n",
       "      <td>3.068347e-08</td>\n",
       "      <td>False</td>\n",
       "      <td>3.905767e-11</td>\n",
       "    </tr>\n",
       "    <tr>\n",
       "      <th>2974</th>\n",
       "      <td>5.0</td>\n",
       "      <td>5.755666e-10</td>\n",
       "      <td>50.0</td>\n",
       "      <td>1.228478e-10</td>\n",
       "      <td>2.345501e-08</td>\n",
       "      <td>3.073418e-10</td>\n",
       "      <td>4.317986e-08</td>\n",
       "      <td>False</td>\n",
       "      <td>1.562307e-11</td>\n",
       "    </tr>\n",
       "    <tr>\n",
       "      <th>2975</th>\n",
       "      <td>5.0</td>\n",
       "      <td>3.597291e-10</td>\n",
       "      <td>80.0</td>\n",
       "      <td>1.686908e-10</td>\n",
       "      <td>3.220767e-08</td>\n",
       "      <td>1.920886e-10</td>\n",
       "      <td>5.929321e-08</td>\n",
       "      <td>False</td>\n",
       "      <td>9.764417e-12</td>\n",
       "    </tr>\n",
       "    <tr>\n",
       "      <th>2976</th>\n",
       "      <td>5.0</td>\n",
       "      <td>2.877833e-10</td>\n",
       "      <td>100.0</td>\n",
       "      <td>2.001248e-10</td>\n",
       "      <td>3.820929e-08</td>\n",
       "      <td>1.536709e-10</td>\n",
       "      <td>7.034199e-08</td>\n",
       "      <td>False</td>\n",
       "      <td>7.811534e-12</td>\n",
       "    </tr>\n",
       "  </tbody>\n",
       "</table>\n",
       "<p>2977 rows × 9 columns</p>\n",
       "</div>"
      ],
      "text/plain": [
       "      mass     stheta_sq   ctau     BRbrULobs       BRULobs  \\\n",
       "0      0.3  6.412669e-04    0.1  9.580597e-08  3.787260e-07   \n",
       "1      0.3  3.206334e-04    0.2  2.820734e-08  1.115051e-07   \n",
       "2      0.3  1.282534e-04    0.5  1.330408e-08  5.259173e-08   \n",
       "3      0.3  6.412669e-05    1.0  1.085803e-08  4.292234e-08   \n",
       "4      0.3  8.015836e-05    0.8  1.149619e-08  4.544503e-08   \n",
       "...    ...           ...    ...           ...           ...   \n",
       "2972   5.0  2.877833e-09   10.0  8.117690e-11  1.549889e-08   \n",
       "2973   5.0  1.438917e-09   20.0  8.729528e-11  1.666705e-08   \n",
       "2974   5.0  5.755666e-10   50.0  1.228478e-10  2.345501e-08   \n",
       "2975   5.0  3.597291e-10   80.0  1.686908e-10  3.220767e-08   \n",
       "2976   5.0  2.877833e-10  100.0  2.001248e-10  3.820929e-08   \n",
       "\n",
       "      theta_sq_inflaton  BRULobs_inflaton   excl      BRtheory  \n",
       "0          9.757958e-04      2.472736e-07   True  4.653616e-03  \n",
       "1          4.878979e-04      7.280266e-08   True  2.326808e-03  \n",
       "2          1.951592e-04      3.433761e-08   True  9.307231e-04  \n",
       "3          9.757958e-05      2.802438e-08   True  4.653616e-04  \n",
       "4          1.219745e-04      2.967146e-08   True  5.817020e-04  \n",
       "...                 ...               ...    ...           ...  \n",
       "2972       1.536709e-09      2.853291e-08  False  7.811534e-11  \n",
       "2973       7.683544e-10      3.068347e-08  False  3.905767e-11  \n",
       "2974       3.073418e-10      4.317986e-08  False  1.562307e-11  \n",
       "2975       1.920886e-10      5.929321e-08  False  9.764417e-12  \n",
       "2976       1.536709e-10      7.034199e-08  False  7.811534e-12  \n",
       "\n",
       "[2977 rows x 9 columns]"
      ]
     },
     "execution_count": 6,
     "metadata": {},
     "output_type": "execute_result"
    }
   ],
   "source": [
    "df = pd.read_csv(\"https://hardikroutray.github.io/displaced_scouting/unblind/results/bphilimits_alldata_allctaus_wstheta_analysisDP_v1.csv\")\n",
    "# df.drop(['Unnamed: 0'],axis=1,inplace=True)\n",
    "df.drop([\"BRtheory\"],axis=1,inplace=True)\n",
    "# df[\"theta_sq_inflaton\"] = get_thetasq(df[\"mass\"],df[\"ctau\"])\n",
    "# df[\"BRULobs_inflaton\"] = df[\"BRbrULobs\"]/get_br(df[\"mass\"])\n",
    "\n",
    "ratio = df[\"mass\"]**2/5.279**2\n",
    "\n",
    "# df[\"BRtheory\"] = 4.8*((1-((df[\"mass\"]**2)/(5.279**2)))**2)*(df[\"theta_sq_inflaton\"])\n",
    "df[\"BRtheory\"] = 4.8*((1-ratio)**2)*(df[\"theta_sq_inflaton\"])\n",
    "df[\"excl\"] = df[\"BRULobs_inflaton\"] < df[\"BRtheory\"]\n",
    "# df[\"BRplot\"] = df[\"BRULobs_inflaton\"] * df[\"excl\"]\n",
    "\n",
    "\n",
    "# df.to_csv(\"/cms/scoutingmuon/hardik/unblind/CMSSW_10_2_13/src/HiggsAnalysis/CombinedLimit/limits_v1/BPhi_2mu_v3/bphilimits_alldata_allctaus_wstheta_analysisDP_v1.csv\", index=False)\n",
    "df"
   ]
  },
  {
   "cell_type": "code",
   "execution_count": 7,
   "id": "numeric-modem",
   "metadata": {},
   "outputs": [
    {
     "data": {
      "text/plain": [
       "array([[0.        , 0.40952381],\n",
       "       [0.61052632, 0.6952381 ],\n",
       "       [0.88421053, 0.91428571],\n",
       "       [1.13684211, 2.77142857],\n",
       "       [4.09473684, 8.56190476]])"
      ]
     },
     "execution_count": 7,
     "metadata": {},
     "output_type": "execute_result"
    }
   ],
   "source": [
    "mask_ranges = np.array([\n",
    "    [0.43,0.49],\n",
    "    [0.52,0.58],\n",
    "    [0.73,0.84],\n",
    "    [0.96,1.08],\n",
    "    [2.91,3.27],\n",
    "    [3.47,3.89],\n",
    "    [8.99,9.87],\n",
    "    [9.61,10.77],\n",
    "    ])\n",
    "mask_ranges[:,0] = mask_ranges[:,0]/(1+0.05)\n",
    "mask_ranges[:,1] = mask_ranges[:,1]/(1-0.05)\n",
    "\n",
    "x = np.concatenate([[0.],mask_ranges.flatten(),[50.]])\n",
    "temp = np.c_[x[:-1], x[1:]][0::2]\n",
    "unmasked_ranges = []\n",
    "for low, high in temp:\n",
    "    count = df[\"mass\"].between(low, high).sum()\n",
    "    if count >0:\n",
    "        unmasked_ranges.append([low,high])\n",
    "unmasked_ranges = np.array(unmasked_ranges)\n",
    "unmasked_ranges"
   ]
  },
  {
   "cell_type": "code",
   "execution_count": 8,
   "id": "liable-oregon",
   "metadata": {},
   "outputs": [
    {
     "data": {
      "image/png": "[encoded data removed]",
      "text/plain": [
       "<Figure size 432x288 with 2 Axes>"
      ]
     },
     "metadata": {},
     "output_type": "display_data"
    }
   ],
   "source": [
    "# df = pd.read_csv(\"/cms/scoutingmuon/hardik/unblind/CMSSW_10_2_13/src/HiggsAnalysis/CombinedLimit/limits_v1/BPhi_2mu_v3/bphilimits_alldata_allctaus_wstheta_analysisDP_v1.csv\")\n",
    "\n",
    "x = np.array(df[\"mass\"]).reshape(-1,13)\n",
    "# y = np.array(df[\"ctau\"]).reshape(-1,13)\n",
    "y = np.array(df[\"theta_sq_inflaton\"]).reshape(-1,13)\n",
    "# z = np.array(df[\"BRbrULobs\"]).reshape(-1,13)\n",
    "# z = np.array(df[\"BRULobs_inflaton\"]).reshape(-1,13)\n",
    "z = np.array(df[\"BRtheory\"]).reshape(-1,13)\n",
    "# z = np.array(df[\"BRplot\"]).reshape(-1,13)\n",
    "\n",
    "fig = plt.figure()\n",
    "\n",
    "from matplotlib.colors import LogNorm\n",
    "norm = LogNorm()\n",
    "cb = plt.contourf(x,y,z,cmap=\"Pastel1\",norm=norm)\n",
    "# cb = plt.scatter(x,y,c=z, s=1.0, norm=norm)\n",
    "# cb = plt.contourf(x,y,z,[1e-8,2e-6], colors=[\"r\"])\n",
    "\n",
    "plt.yscale(\"log\")\n",
    "plt.xscale(\"log\")\n",
    "plt.xlim([0.3,5])\n",
    "ylim = plt.ylim()\n",
    "for low,high in mask_ranges:\n",
    "    plt.fill_betweenx(ylim, low, high, color=\"1.0\", zorder=2)\n",
    "    \n",
    "plt.xlabel(r\"m$_{\\phi}$ [GeV]\")\n",
    "plt.ylabel(r\"$\\theta^{2}$\")\n",
    "plt.title(r\"${}_\\mathbf{CMS}$ ${}_\\mathit{Preliminary}$                         101 fb$^{-1}$(13 TeV)\")\n",
    "fig.colorbar(cb, label=r\"BR(B $\\rightarrow$ $\\phi$ X)\")#\".BR($\\phi$ $\\rightarrow$ $\\mu\\mu$)\")\n",
    "\n",
    "\n",
    "fig.patch.set_alpha(1)"
   ]
  },
  {
   "cell_type": "code",
   "execution_count": null,
   "id": "solved-machinery",
   "metadata": {},
   "outputs": [],
   "source": []
  }
 ],
 "metadata": {
  "kernelspec": {
   "display_name": "Python 3",
   "language": "python",
   "name": "python3"
  },
  "language_info": {
   "codemirror_mode": {
    "name": "ipython",
    "version": 3
   },
   "file_extension": ".py",
   "mimetype": "text/x-python",
   "name": "python",
   "nbconvert_exporter": "python",
   "pygments_lexer": "ipython3",
   "version": "3.7.10"
  }
 },
 "nbformat": 4,
 "nbformat_minor": 5
}
